{
    "cells": [
        {
            "cell_type": "markdown",
            "metadata": {},
            "source": "# Introduction/Business Problem"
        },
        {
            "cell_type": "markdown",
            "metadata": {},
            "source": "Pizza is arguably one of the world's most popular foods today, especially in the United States where pizza restaurant sales topped $46 billion dollars in 2019. [https://www.statista.com/statistics/291403/us-pizza-restaurant-sales/] About 1 in 8 Americans consume pizza on any given day. [https://www.ars.usda.gov/ARSUserFiles/80400530/pdf/DBrief/11_consumption_of_pizza_0710.pdf] This highly-craved food traces its roots back to antiqity, but was not introduced to the U.S. until the arrival of Italian immigrants in the 1800's, where it was popular with that population, in among other areas, New York City. However, it didn't gain the popularity it enjoys today until U.S. troops returned from Italy in World War II, craving the cuisine they were introduced to over there. Given its prevelance, there are more options for the pizza connoisseur then ever before. Despite the saturation, there are seemingly limitless opportunities to get in on the action yourself given its popularity.\nOn your first trip to New York City you fell in love with Manhattan, and have always dreamed of opening your own Pizza Place there. With continuing growth in both business and lesiure travel, [https://indd.adobe.com/view/fcc4cd9f-7386-4b52-a39b-c401266a137f] you feel now is the time to take action.\n\nSo where in Manhattan should you aim to open your pizza place, and are there any highly rated locations in the area you could emulate?"
        },
        {
            "cell_type": "markdown",
            "metadata": {},
            "source": "# Data"
        },
        {
            "cell_type": "markdown",
            "metadata": {},
            "source": "To solve this delimma, we'll need New York City neghborhood data including boroughs, longitude, latitude, and restaurant ratings.\n\nhttps://cocl.us/new_york_dataset will provide us New York City data containing the neighborhoods and boroughs, latitudes, and longitudes.\n\nAll data related to locations and quality of pizza places will be obtained via the FourSquare API utilized via the Request library in Python."
        }
    ],
    "metadata": {
        "kernelspec": {
            "display_name": "Python 3.6",
            "language": "python",
            "name": "python3"
        },
        "language_info": {
            "codemirror_mode": {
                "name": "ipython",
                "version": 3
            },
            "file_extension": ".py",
            "mimetype": "text/x-python",
            "name": "python",
            "nbconvert_exporter": "python",
            "pygments_lexer": "ipython3",
            "version": "3.6.9"
        }
    },
    "nbformat": 4,
    "nbformat_minor": 1
}